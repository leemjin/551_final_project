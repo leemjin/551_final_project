{
 "cells": [
  {
   "cell_type": "code",
   "execution_count": 11,
   "id": "e4c4c35f",
   "metadata": {},
   "outputs": [],
   "source": [
    "import numpy as np\n",
    "from numpy import log\n",
    "import pandas as pd\n",
    "import matplotlib.pyplot as plt\n",
    "import pmdarima as pm\n",
    "import os\n",
    "import math\n",
    "\n",
    "from statsmodels.graphics.tsaplots import plot_acf, plot_pacf\n",
    "from statsmodels.tsa.stattools import adfuller\n",
    "from pmdarima.arima.utils import ndiffs\n",
    "from statsmodels.tsa.arima.model import ARIMA\n"
   ]
  },
  {
   "cell_type": "code",
   "execution_count": 2,
   "id": "9d3708b7",
   "metadata": {},
   "outputs": [],
   "source": [
    "spy = pd.read_csv('spy_processed.csv')"
   ]
  },
  {
   "cell_type": "code",
   "execution_count": null,
   "id": "e6af2b02",
   "metadata": {
    "scrolled": true
   },
   "outputs": [],
   "source": [
    "#spy.head()"
   ]
  },
  {
   "cell_type": "code",
   "execution_count": 3,
   "id": "29ee392d",
   "metadata": {
    "scrolled": true
   },
   "outputs": [],
   "source": [
    "cp = spy.iloc[:,[0,6,7,11]]\n",
    "cp = cp.rename({'Close' : 'clo', 'Adj Close' : 'adc', 'Unnamed: 0.1' : 'no'}, axis =1 )"
   ]
  },
  {
   "cell_type": "markdown",
   "id": "6234ce0e",
   "metadata": {},
   "source": [
    "# find order of differencing -- d"
   ]
  },
  {
   "cell_type": "code",
   "execution_count": null,
   "id": "59dde228",
   "metadata": {},
   "outputs": [],
   "source": [
    "plot_acf(cp.adc.dropna());"
   ]
  },
  {
   "cell_type": "code",
   "execution_count": null,
   "id": "ae23f010",
   "metadata": {
    "scrolled": false
   },
   "outputs": [],
   "source": [
    "plot_acf(cp.adc.diff(10).dropna());"
   ]
  },
  {
   "cell_type": "code",
   "execution_count": null,
   "id": "948f4d01",
   "metadata": {},
   "outputs": [],
   "source": [
    "result = adfuller(cp.adc)\n",
    "print('ADF Statistic: %f' % result[0])\n",
    "print('p-value: %f' % result[1])"
   ]
  },
  {
   "cell_type": "code",
   "execution_count": null,
   "id": "1eebfd7b",
   "metadata": {
    "scrolled": true
   },
   "outputs": [],
   "source": [
    "# first differencing\n",
    "\n",
    "result = adfuller(cp.adc.diff().dropna())\n",
    "print('ADF Statistic: %f' % result[0])\n",
    "print('p-value: %f' % result[1])"
   ]
  },
  {
   "cell_type": "code",
   "execution_count": null,
   "id": "d2771015",
   "metadata": {},
   "outputs": [],
   "source": [
    "\n",
    "# Adf Test: 1\n",
    "ndiffs(cp.adc, test='adf')\n",
    "\n",
    "# KPSS test: 2\n",
    "ndiffs(cp.adc, test='kpss')\n",
    "\n",
    "# PP test: 1\n",
    "ndiffs(cp.adc, test='pp') "
   ]
  },
  {
   "cell_type": "markdown",
   "id": "fb7a6474",
   "metadata": {},
   "source": [
    "# Order of AR term -- p"
   ]
  },
  {
   "cell_type": "code",
   "execution_count": null,
   "id": "bfd6ac5f",
   "metadata": {
    "scrolled": false
   },
   "outputs": [],
   "source": [
    "plot_pacf(cp.adc.diff(2).dropna(), method = 'ywm')\n",
    "\n",
    "plt.show()\n",
    "\n",
    "#lag : exceed significance level -- we choose 1"
   ]
  },
  {
   "cell_type": "markdown",
   "id": "7881ca29",
   "metadata": {},
   "source": [
    "# Order of MA term -- q"
   ]
  },
  {
   "cell_type": "code",
   "execution_count": null,
   "id": "ab237293",
   "metadata": {
    "scrolled": true
   },
   "outputs": [],
   "source": [
    "plot_acf(cp.adc.diff(1).dropna());\n",
    "# we choose q = 2"
   ]
  },
  {
   "cell_type": "markdown",
   "id": "6fbc8013",
   "metadata": {},
   "source": [
    "# ARIMA Model"
   ]
  },
  {
   "cell_type": "code",
   "execution_count": null,
   "id": "c2cc6fde",
   "metadata": {
    "scrolled": true
   },
   "outputs": [],
   "source": [
    "model = ARIMA(cp.adc, order=(1, 1, 1))\n",
    "model_fit = model.fit()\n",
    "print(model_fit.summary())"
   ]
  },
  {
   "cell_type": "code",
   "execution_count": null,
   "id": "bc1ed3dd",
   "metadata": {
    "scrolled": true
   },
   "outputs": [],
   "source": [
    "# residual plot\n",
    "\n",
    "residuals = pd.DataFrame(model_fit.resid)\n",
    "residuals.plot(title=\"Residuals\")\n",
    "residuals.plot(kind='kde', title='Density')\n"
   ]
  },
  {
   "cell_type": "markdown",
   "id": "9124a57a",
   "metadata": {},
   "source": [
    "# auto ARIMA"
   ]
  },
  {
   "cell_type": "code",
   "execution_count": null,
   "id": "d8d98f01",
   "metadata": {
    "scrolled": true
   },
   "outputs": [],
   "source": [
    "model_auto = pm.auto_arima(cp.ret, start_p = 1, start_q = 1,\n",
    "                      test = 'adf',       \n",
    "                      max_p = 3, max_q = 3, \n",
    "                      m = 1,              \n",
    "                      d = None,           \n",
    "                      seasonal = False,   \n",
    "                      start_P = 0, \n",
    "                      D = 0, \n",
    "                      trace = True,\n",
    "                      error_action = 'ignore',  \n",
    "                      suppress_warnings = True, \n",
    "                      stepwise = True)\n",
    "\n",
    "print(model_auto.summary())"
   ]
  },
  {
   "cell_type": "markdown",
   "id": "84fd30a5",
   "metadata": {},
   "source": [
    "# Predictions and prediction error"
   ]
  },
  {
   "cell_type": "code",
   "execution_count": 38,
   "id": "46e08c09",
   "metadata": {
    "scrolled": true
   },
   "outputs": [],
   "source": [
    "###### TEST --  DELETE in final version\n",
    "\n",
    "begin_ind = 5000\n",
    "n = 100\n",
    "lag = 50\n",
    "\n",
    "train = cp.adc[begin_ind - lag : begin_ind]\n",
    "test = cp.adc[begin_ind + 1 : begin_ind + n]\n",
    "history = [x for x in train]\n",
    "predictions = list()\n",
    "actual = list()\n",
    "\n",
    "# walk-forward validation\n",
    "for t in range(n):\n",
    "    model = ARIMA(history, order=(1,0,2))\n",
    "    model_fit = model.fit()\n",
    "    output = model_fit.forecast()\n",
    "    yhat = output[0]\n",
    "    predictions.append(yhat)\n",
    "    obs = cp.adc[begin_ind + t]\n",
    "    actual.append(obs)\n",
    "    history.append(obs)\n",
    "\n"
   ]
  },
  {
   "cell_type": "code",
   "execution_count": 25,
   "id": "d67f923f",
   "metadata": {},
   "outputs": [],
   "source": [
    "def arima_predictions(n, begin_ind, lag, show_plot=False):\n",
    "    \n",
    "    \n",
    "    \n",
    "    train = cp.ret[begin_ind - lag : begin_ind]\n",
    "    history = [x for x in train]\n",
    "    predictions = list()\n",
    "    actual = list()\n",
    "    close_price_pred = list()\n",
    "\n",
    "    # walk-forward validation\n",
    "    for t in range(n):\n",
    "        model = ARIMA(history, order=(1,0,2))\n",
    "        model_fit = model.fit()\n",
    "        output = model_fit.forecast()\n",
    "        yhat = output[0]\n",
    "        predictions.append(yhat)\n",
    "        \n",
    "        obs = cp.ret[begin_ind + t]\n",
    "        actual.append(cp.adc[begin_ind + t])\n",
    "        history.append(obs)\n",
    "        \n",
    "        close_price_pred.append(cp.adc[begin_ind + t - 1] * (1 + yhat))\n",
    "        \n",
    "        \n",
    "    retdf = pd.concat([pd.DataFrame(close_price_pred), pd.DataFrame(actual)], axis = 1)\n",
    "    retdf.columns = ['pred', 'actual']\n",
    "       \n",
    "        \n",
    "    mse = np.sum(np.square(retdf[\"pred\"] - retdf[\"actual\"]))\n",
    "    print('MSE : %f' % mse)\n",
    "\n",
    "    \n",
    "    if show_plot:\n",
    "            plt.plot(spy.Date[begin_ind:begin_ind+n], retdf[\"pred\"],\"o-\", markersize=3, label=\"predicted\")\n",
    "            plt.plot(spy.Date[begin_ind:begin_ind+n], retdf[\"actual\"], \"o-\", markersize=3, label=\"actual\")\n",
    "            #plt.fill_between(self.dates[begin_ind:begin_ind+n], ret[\"left_ci\"], ret[\"right_ci\"], color=\"b\", alpha=0.1)\n",
    "            plt.ylabel(\"Adjusted Close\")\n",
    "            plt.legend(loc=\"lower right\", fontsize=20)\n",
    "\n",
    "        \n",
    "    return retdf\n",
    "    "
   ]
  },
  {
   "cell_type": "code",
   "execution_count": 39,
   "id": "e1b74dbd",
   "metadata": {},
   "outputs": [
    {
     "name": "stdout",
     "output_type": "stream",
     "text": [
      "MSE : 137.721730\n"
     ]
    },
    {
     "data": {
      "image/png": "[encoded data removed]",
      "text/plain": [
       "<Figure size 432x288 with 1 Axes>"
      ]
     },
     "metadata": {
      "needs_background": "light"
     },
     "output_type": "display_data"
    }
   ],
   "source": [
    "with warnings.catch_warnings():\n",
    "    warnings.simplefilter(\"ignore\")\n",
    "    res = arima_predictions(100, 5000, 50, show_plot = True)"
   ]
  },
  {
   "cell_type": "code",
   "execution_count": 41,
   "id": "a1bc3abb",
   "metadata": {},
   "outputs": [
    {
     "data": {
      "text/html": [
       "<div>\n",
       "<style scoped>\n",
       "    .dataframe tbody tr th:only-of-type {\n",
       "        vertical-align: middle;\n",
       "    }\n",
       "\n",
       "    .dataframe tbody tr th {\n",
       "        vertical-align: top;\n",
       "    }\n",
       "\n",
       "    .dataframe thead th {\n",
       "        text-align: right;\n",
       "    }\n",
       "</style>\n",
       "<table border=\"1\" class=\"dataframe\">\n",
       "  <thead>\n",
       "    <tr style=\"text-align: right;\">\n",
       "      <th></th>\n",
       "      <th>pred</th>\n",
       "      <th>actual</th>\n",
       "    </tr>\n",
       "  </thead>\n",
       "  <tbody>\n",
       "    <tr>\n",
       "      <th>0</th>\n",
       "      <td>153.757630</td>\n",
       "      <td>152.770416</td>\n",
       "    </tr>\n",
       "    <tr>\n",
       "      <th>1</th>\n",
       "      <td>153.054374</td>\n",
       "      <td>154.477875</td>\n",
       "    </tr>\n",
       "    <tr>\n",
       "      <th>2</th>\n",
       "      <td>154.643820</td>\n",
       "      <td>154.870636</td>\n",
       "    </tr>\n",
       "    <tr>\n",
       "      <th>3</th>\n",
       "      <td>154.861320</td>\n",
       "      <td>154.315674</td>\n",
       "    </tr>\n",
       "    <tr>\n",
       "      <th>4</th>\n",
       "      <td>154.560610</td>\n",
       "      <td>152.582535</td>\n",
       "    </tr>\n",
       "    <tr>\n",
       "      <th>...</th>\n",
       "      <td>...</td>\n",
       "      <td>...</td>\n",
       "    </tr>\n",
       "    <tr>\n",
       "      <th>95</th>\n",
       "      <td>161.697930</td>\n",
       "      <td>161.942429</td>\n",
       "    </tr>\n",
       "    <tr>\n",
       "      <th>96</th>\n",
       "      <td>162.106817</td>\n",
       "      <td>160.614670</td>\n",
       "    </tr>\n",
       "    <tr>\n",
       "      <th>97</th>\n",
       "      <td>160.737973</td>\n",
       "      <td>161.123398</td>\n",
       "    </tr>\n",
       "    <tr>\n",
       "      <th>98</th>\n",
       "      <td>161.344103</td>\n",
       "      <td>161.873459</td>\n",
       "    </tr>\n",
       "    <tr>\n",
       "      <th>99</th>\n",
       "      <td>161.963130</td>\n",
       "      <td>162.356277</td>\n",
       "    </tr>\n",
       "  </tbody>\n",
       "</table>\n",
       "<p>100 rows × 2 columns</p>\n",
       "</div>"
      ],
      "text/plain": [
       "          pred      actual\n",
       "0   153.757630  152.770416\n",
       "1   153.054374  154.477875\n",
       "2   154.643820  154.870636\n",
       "3   154.861320  154.315674\n",
       "4   154.560610  152.582535\n",
       "..         ...         ...\n",
       "95  161.697930  161.942429\n",
       "96  162.106817  160.614670\n",
       "97  160.737973  161.123398\n",
       "98  161.344103  161.873459\n",
       "99  161.963130  162.356277\n",
       "\n",
       "[100 rows x 2 columns]"
      ]
     },
     "execution_count": 41,
     "metadata": {},
     "output_type": "execute_result"
    }
   ],
   "source": [
    "res"
   ]
  },
  {
   "cell_type": "code",
   "execution_count": null,
   "id": "a00966a5",
   "metadata": {},
   "outputs": [],
   "source": []
  },
  {
   "cell_type": "code",
   "execution_count": null,
   "id": "d1250444",
   "metadata": {},
   "outputs": [],
   "source": []
  }
 ],
 "metadata": {
  "kernelspec": {
   "display_name": "Python 3 (ipykernel)",
   "language": "python",
   "name": "python3"
  },
  "language_info": {
   "codemirror_mode": {
    "name": "ipython",
    "version": 3
   },
   "file_extension": ".py",
   "mimetype": "text/x-python",
   "name": "python",
   "nbconvert_exporter": "python",
   "pygments_lexer": "ipython3",
   "version": "3.9.6"
  }
 },
 "nbformat": 4,
 "nbformat_minor": 5
}
