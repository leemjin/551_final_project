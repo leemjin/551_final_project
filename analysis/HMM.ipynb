{
 "cells": [
  {
   "cell_type": "code",
   "execution_count": 56,
   "metadata": {},
   "outputs": [],
   "source": [
    "import pandas as pd\n",
    "import numpy as np\n",
    "import matplotlib.pyplot as plt\n",
    "from hmmlearn import hmm"
   ]
  },
  {
   "cell_type": "code",
   "execution_count": 2,
   "metadata": {},
   "outputs": [],
   "source": [
    "spy = pd.read_csv(\"../Data/spy_data.csv\")"
   ]
  },
  {
   "cell_type": "code",
   "execution_count": 3,
   "metadata": {},
   "outputs": [
    {
     "data": {
      "text/html": [
       "<div>\n",
       "<style scoped>\n",
       "    .dataframe tbody tr th:only-of-type {\n",
       "        vertical-align: middle;\n",
       "    }\n",
       "\n",
       "    .dataframe tbody tr th {\n",
       "        vertical-align: top;\n",
       "    }\n",
       "\n",
       "    .dataframe thead th {\n",
       "        text-align: right;\n",
       "    }\n",
       "</style>\n",
       "<table border=\"1\" class=\"dataframe\">\n",
       "  <thead>\n",
       "    <tr style=\"text-align: right;\">\n",
       "      <th></th>\n",
       "      <th>Date</th>\n",
       "      <th>Open</th>\n",
       "      <th>High</th>\n",
       "      <th>Low</th>\n",
       "      <th>Close</th>\n",
       "      <th>Adj Close</th>\n",
       "      <th>Volume</th>\n",
       "      <th>Close-Open</th>\n",
       "      <th>High-Low</th>\n",
       "    </tr>\n",
       "  </thead>\n",
       "  <tbody>\n",
       "    <tr>\n",
       "      <th>0</th>\n",
       "      <td>1993-01-29</td>\n",
       "      <td>43.968750</td>\n",
       "      <td>43.968750</td>\n",
       "      <td>43.750000</td>\n",
       "      <td>43.937500</td>\n",
       "      <td>25.547979</td>\n",
       "      <td>1003200</td>\n",
       "      <td>-0.031250</td>\n",
       "      <td>0.218750</td>\n",
       "    </tr>\n",
       "    <tr>\n",
       "      <th>1</th>\n",
       "      <td>1993-02-01</td>\n",
       "      <td>43.968750</td>\n",
       "      <td>44.250000</td>\n",
       "      <td>43.968750</td>\n",
       "      <td>44.250000</td>\n",
       "      <td>25.729681</td>\n",
       "      <td>480500</td>\n",
       "      <td>0.281250</td>\n",
       "      <td>0.281250</td>\n",
       "    </tr>\n",
       "    <tr>\n",
       "      <th>2</th>\n",
       "      <td>1993-02-02</td>\n",
       "      <td>44.218750</td>\n",
       "      <td>44.375000</td>\n",
       "      <td>44.125000</td>\n",
       "      <td>44.343750</td>\n",
       "      <td>25.784195</td>\n",
       "      <td>201300</td>\n",
       "      <td>0.125000</td>\n",
       "      <td>0.250000</td>\n",
       "    </tr>\n",
       "    <tr>\n",
       "      <th>3</th>\n",
       "      <td>1993-02-03</td>\n",
       "      <td>44.406250</td>\n",
       "      <td>44.843750</td>\n",
       "      <td>44.375000</td>\n",
       "      <td>44.812500</td>\n",
       "      <td>26.056761</td>\n",
       "      <td>529400</td>\n",
       "      <td>0.406250</td>\n",
       "      <td>0.468750</td>\n",
       "    </tr>\n",
       "    <tr>\n",
       "      <th>4</th>\n",
       "      <td>1993-02-04</td>\n",
       "      <td>44.968750</td>\n",
       "      <td>45.093750</td>\n",
       "      <td>44.468750</td>\n",
       "      <td>45.000000</td>\n",
       "      <td>26.165781</td>\n",
       "      <td>531500</td>\n",
       "      <td>0.031250</td>\n",
       "      <td>0.625000</td>\n",
       "    </tr>\n",
       "    <tr>\n",
       "      <th>...</th>\n",
       "      <td>...</td>\n",
       "      <td>...</td>\n",
       "      <td>...</td>\n",
       "      <td>...</td>\n",
       "      <td>...</td>\n",
       "      <td>...</td>\n",
       "      <td>...</td>\n",
       "      <td>...</td>\n",
       "      <td>...</td>\n",
       "    </tr>\n",
       "    <tr>\n",
       "      <th>7338</th>\n",
       "      <td>2022-03-21</td>\n",
       "      <td>444.339996</td>\n",
       "      <td>446.459991</td>\n",
       "      <td>440.679993</td>\n",
       "      <td>444.390015</td>\n",
       "      <td>444.390015</td>\n",
       "      <td>88349800</td>\n",
       "      <td>0.050018</td>\n",
       "      <td>5.779999</td>\n",
       "    </tr>\n",
       "    <tr>\n",
       "      <th>7339</th>\n",
       "      <td>2022-03-22</td>\n",
       "      <td>445.859985</td>\n",
       "      <td>450.579987</td>\n",
       "      <td>445.859985</td>\n",
       "      <td>449.589996</td>\n",
       "      <td>449.589996</td>\n",
       "      <td>74650400</td>\n",
       "      <td>3.730011</td>\n",
       "      <td>4.720001</td>\n",
       "    </tr>\n",
       "    <tr>\n",
       "      <th>7340</th>\n",
       "      <td>2022-03-23</td>\n",
       "      <td>446.910004</td>\n",
       "      <td>448.489990</td>\n",
       "      <td>443.709991</td>\n",
       "      <td>443.799988</td>\n",
       "      <td>443.799988</td>\n",
       "      <td>79426100</td>\n",
       "      <td>-3.110016</td>\n",
       "      <td>4.779999</td>\n",
       "    </tr>\n",
       "    <tr>\n",
       "      <th>7341</th>\n",
       "      <td>2022-03-24</td>\n",
       "      <td>445.940002</td>\n",
       "      <td>450.500000</td>\n",
       "      <td>444.760010</td>\n",
       "      <td>450.489990</td>\n",
       "      <td>450.489990</td>\n",
       "      <td>64736900</td>\n",
       "      <td>4.549988</td>\n",
       "      <td>5.739990</td>\n",
       "    </tr>\n",
       "    <tr>\n",
       "      <th>7342</th>\n",
       "      <td>2022-03-25</td>\n",
       "      <td>451.160004</td>\n",
       "      <td>452.980011</td>\n",
       "      <td>448.429993</td>\n",
       "      <td>452.690002</td>\n",
       "      <td>452.690002</td>\n",
       "      <td>77026100</td>\n",
       "      <td>1.529999</td>\n",
       "      <td>4.550018</td>\n",
       "    </tr>\n",
       "  </tbody>\n",
       "</table>\n",
       "<p>7343 rows × 9 columns</p>\n",
       "</div>"
      ],
      "text/plain": [
       "            Date        Open        High         Low       Close   Adj Close  \\\n",
       "0     1993-01-29   43.968750   43.968750   43.750000   43.937500   25.547979   \n",
       "1     1993-02-01   43.968750   44.250000   43.968750   44.250000   25.729681   \n",
       "2     1993-02-02   44.218750   44.375000   44.125000   44.343750   25.784195   \n",
       "3     1993-02-03   44.406250   44.843750   44.375000   44.812500   26.056761   \n",
       "4     1993-02-04   44.968750   45.093750   44.468750   45.000000   26.165781   \n",
       "...          ...         ...         ...         ...         ...         ...   \n",
       "7338  2022-03-21  444.339996  446.459991  440.679993  444.390015  444.390015   \n",
       "7339  2022-03-22  445.859985  450.579987  445.859985  449.589996  449.589996   \n",
       "7340  2022-03-23  446.910004  448.489990  443.709991  443.799988  443.799988   \n",
       "7341  2022-03-24  445.940002  450.500000  444.760010  450.489990  450.489990   \n",
       "7342  2022-03-25  451.160004  452.980011  448.429993  452.690002  452.690002   \n",
       "\n",
       "        Volume  Close-Open  High-Low  \n",
       "0      1003200   -0.031250  0.218750  \n",
       "1       480500    0.281250  0.281250  \n",
       "2       201300    0.125000  0.250000  \n",
       "3       529400    0.406250  0.468750  \n",
       "4       531500    0.031250  0.625000  \n",
       "...        ...         ...       ...  \n",
       "7338  88349800    0.050018  5.779999  \n",
       "7339  74650400    3.730011  4.720001  \n",
       "7340  79426100   -3.110016  4.779999  \n",
       "7341  64736900    4.549988  5.739990  \n",
       "7342  77026100    1.529999  4.550018  \n",
       "\n",
       "[7343 rows x 9 columns]"
      ]
     },
     "execution_count": 3,
     "metadata": {},
     "output_type": "execute_result"
    }
   ],
   "source": [
    "spy"
   ]
  },
  {
   "cell_type": "code",
   "execution_count": 70,
   "metadata": {},
   "outputs": [],
   "source": [
    "ret = spy[[\"Adj Close\"]].pct_change()[1:]"
   ]
  },
  {
   "cell_type": "code",
   "execution_count": 72,
   "metadata": {},
   "outputs": [],
   "source": [
    "mod = hmm.GaussianHMM(n_components=3, covariance_type=\"full\", n_iter=1000).fit(ret)"
   ]
  },
  {
   "cell_type": "code",
   "execution_count": 75,
   "metadata": {},
   "outputs": [
    {
     "data": {
      "text/plain": [
       "array([[1.00000000e+000, 1.64035404e-020, 4.33784930e-101],\n",
       "       [9.94751120e-001, 5.24881643e-003, 6.36689974e-008],\n",
       "       [9.84352964e-001, 1.56453877e-002, 1.64798109e-006],\n",
       "       ...,\n",
       "       [1.54152471e-002, 9.81056371e-001, 3.52838201e-003],\n",
       "       [2.87431603e-002, 9.66173283e-001, 5.08355660e-003],\n",
       "       [7.87238998e-002, 9.14092941e-001, 7.18315870e-003]])"
      ]
     },
     "execution_count": 75,
     "metadata": {},
     "output_type": "execute_result"
    }
   ],
   "source": [
    "mod.predict_proba(ret)"
   ]
  },
  {
   "cell_type": "code",
   "execution_count": 74,
   "metadata": {},
   "outputs": [
    {
     "data": {
      "text/plain": [
       "[<matplotlib.lines.Line2D at 0x126bebd60>]"
      ]
     },
     "execution_count": 74,
     "metadata": {},
     "output_type": "execute_result"
    },
    {
     "data": {
      "image/png": "[encoded data removed]",
      "text/plain": [
       "<Figure size 432x288 with 1 Axes>"
      ]
     },
     "metadata": {
      "needs_background": "light"
     },
     "output_type": "display_data"
    }
   ],
   "source": [
    "plt.plot(mod.predict(ret))"
   ]
  },
  {
   "cell_type": "code",
   "execution_count": 79,
   "metadata": {},
   "outputs": [
    {
     "data": {
      "text/plain": [
       "[<matplotlib.lines.Line2D at 0x1246ef5e0>]"
      ]
     },
     "execution_count": 79,
     "metadata": {},
     "output_type": "execute_result"
    },
    {
     "data": {
      "image/png": "[encoded data removed]",
      "text/plain": [
       "<Figure size 432x288 with 1 Axes>"
      ]
     },
     "metadata": {
      "needs_background": "light"
     },
     "output_type": "display_data"
    }
   ],
   "source": [
    "plt.plot(spy[\"Volume\"])"
   ]
  },
  {
   "cell_type": "code",
   "execution_count": null,
   "metadata": {},
   "outputs": [],
   "source": []
  }
 ],
 "metadata": {
  "kernelspec": {
   "display_name": "Python 3",
   "language": "python",
   "name": "python3"
  },
  "language_info": {
   "codemirror_mode": {
    "name": "ipython",
    "version": 3
   },
   "file_extension": ".py",
   "mimetype": "text/x-python",
   "name": "python",
   "nbconvert_exporter": "python",
   "pygments_lexer": "ipython3",
   "version": "3.8.5"
  }
 },
 "nbformat": 4,
 "nbformat_minor": 4
}
