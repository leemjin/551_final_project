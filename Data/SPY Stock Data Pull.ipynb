{
 "cells": [
  {
   "cell_type": "code",
   "execution_count": 1,
   "id": "a3478b7f",
   "metadata": {},
   "outputs": [],
   "source": [
    "import pandas as pd\n",
    "import yfinance as yf"
   ]
  },
  {
   "cell_type": "code",
   "execution_count": 2,
   "id": "470bc51c",
   "metadata": {},
   "outputs": [
    {
     "name": "stdout",
     "output_type": "stream",
     "text": [
      "[*********************100%***********************]  1 of 1 completed\n"
     ]
    }
   ],
   "source": [
    "spy_data = yf.download('SPY', '1970-01-01', '2022-03-28')"
   ]
  },
  {
   "cell_type": "code",
   "execution_count": 4,
   "id": "d3a8dbe0",
   "metadata": {},
   "outputs": [],
   "source": [
    "# Add two more columns taking the difference between closing and open price and high and low price\n",
    "spy_data['Close-Open'] = spy_data['Close'] - spy_data['Open']\n",
    "spy_data['High-Low'] = spy_data['High'] - spy_data['Low']"
   ]
  },
  {
   "cell_type": "code",
   "execution_count": 6,
   "id": "dfc5d0f0",
   "metadata": {},
   "outputs": [],
   "source": [
    "# Save data frame as a csv\n",
    "spy_data.to_csv('spy_data.csv')"
   ]
  }
 ],
 "metadata": {
  "kernelspec": {
   "display_name": "Python 3 (ipykernel)",
   "language": "python",
   "name": "python3"
  },
  "language_info": {
   "codemirror_mode": {
    "name": "ipython",
    "version": 3
   },
   "file_extension": ".py",
   "mimetype": "text/x-python",
   "name": "python",
   "nbconvert_exporter": "python",
   "pygments_lexer": "ipython3",
   "version": "3.8.13"
  }
 },
 "nbformat": 4,
 "nbformat_minor": 5
}
